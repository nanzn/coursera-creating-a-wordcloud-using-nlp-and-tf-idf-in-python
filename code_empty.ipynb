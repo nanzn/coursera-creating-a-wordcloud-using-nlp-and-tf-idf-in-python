{
 "cells": [
  {
   "attachments": {},
   "cell_type": "markdown",
   "metadata": {},
   "source": [
    "\n",
    "# SETUP"
   ]
  },
  {
   "cell_type": "code",
   "execution_count": 8,
   "metadata": {},
   "outputs": [
    {
     "name": "stderr",
     "output_type": "stream",
     "text": [
      "[nltk_data] Downloading package stopwords to\n",
      "[nltk_data]     C:\\Users\\nan_z\\AppData\\Roaming\\nltk_data...\n",
      "[nltk_data]   Package stopwords is already up-to-date!\n",
      "[nltk_data] Downloading package wordnet to\n",
      "[nltk_data]     C:\\Users\\nan_z\\AppData\\Roaming\\nltk_data...\n",
      "[nltk_data]   Package wordnet is already up-to-date!\n"
     ]
    }
   ],
   "source": [
    "import matplotlib.pyplot as plt\n",
    "import pandas as pd\n",
    "import re\n",
    "from sklearn.feature_extraction.text import TfidfVectorizer\n",
    "from nltk import download\n",
    "download('stopwords')\n",
    "download('wordnet')\n",
    "from nltk.corpus import stopwords\n",
    "from wordcloud import WordCloud\n",
    "import json\n",
    "from nltk.stem import WordNetLemmatizer"
   ]
  },
  {
   "attachments": {},
   "cell_type": "markdown",
   "metadata": {},
   "source": [
    "# TASK 1: LOAD DATA"
   ]
  },
  {
   "cell_type": "code",
   "execution_count": 9,
   "metadata": {},
   "outputs": [],
   "source": [
    "data = pd.read_json('recipes.json', lines=True)"
   ]
  },
  {
   "cell_type": "code",
   "execution_count": 10,
   "metadata": {},
   "outputs": [
    {
     "data": {
      "text/html": [
       "<div>\n",
       "<style scoped>\n",
       "    .dataframe tbody tr th:only-of-type {\n",
       "        vertical-align: middle;\n",
       "    }\n",
       "\n",
       "    .dataframe tbody tr th {\n",
       "        vertical-align: top;\n",
       "    }\n",
       "\n",
       "    .dataframe thead th {\n",
       "        text-align: right;\n",
       "    }\n",
       "</style>\n",
       "<table border=\"1\" class=\"dataframe\">\n",
       "  <thead>\n",
       "    <tr style=\"text-align: right;\">\n",
       "      <th></th>\n",
       "      <th>Name</th>\n",
       "      <th>url</th>\n",
       "      <th>Description</th>\n",
       "      <th>Author</th>\n",
       "      <th>Ingredients</th>\n",
       "      <th>Method</th>\n",
       "    </tr>\n",
       "  </thead>\n",
       "  <tbody>\n",
       "    <tr>\n",
       "      <th>0</th>\n",
       "      <td>Christmas pie</td>\n",
       "      <td>https://www.bbcgoodfood.com/recipes/2793/chris...</td>\n",
       "      <td>Combine a few key Christmas flavours here to m...</td>\n",
       "      <td>Mary Cadogan</td>\n",
       "      <td>[2 tbsp olive oil, knob butter, 1 onion, finel...</td>\n",
       "      <td>[Heat oven to 190C/fan 170C/gas 5. Heat 1 tbsp...</td>\n",
       "    </tr>\n",
       "    <tr>\n",
       "      <th>1</th>\n",
       "      <td>Simmer-&amp;-stir Christmas cake</td>\n",
       "      <td>https://www.bbcgoodfood.com/recipes/1160/simme...</td>\n",
       "      <td>An easy-to-make alternative to traditional Chr...</td>\n",
       "      <td>Mary Cadogan</td>\n",
       "      <td>[175g butter, chopped, 200g dark muscovado sug...</td>\n",
       "      <td>[Put the butter, sugar, fruit, zests, juice an...</td>\n",
       "    </tr>\n",
       "    <tr>\n",
       "      <th>2</th>\n",
       "      <td>Christmas cupcakes</td>\n",
       "      <td>https://www.bbcgoodfood.com/recipes/72622/chri...</td>\n",
       "      <td>These beautiful and classy little cakes make l...</td>\n",
       "      <td>Sara Buenfeld</td>\n",
       "      <td>[200g dark muscovado sugar, 175g butter, chopp...</td>\n",
       "      <td>[Tip the sugar, butter, dried fruit, whole che...</td>\n",
       "    </tr>\n",
       "    <tr>\n",
       "      <th>3</th>\n",
       "      <td>Christmas buns</td>\n",
       "      <td>https://www.bbcgoodfood.com/recipes/1803633/ch...</td>\n",
       "      <td>Paul Hollywood's fruit rolls can be made ahead...</td>\n",
       "      <td>Paul Hollywood</td>\n",
       "      <td>[500g strong white flour, plus extra for dusti...</td>\n",
       "      <td>[Put the flour and 1 tsp salt into a large bow...</td>\n",
       "    </tr>\n",
       "    <tr>\n",
       "      <th>4</th>\n",
       "      <td>Christmas cupcakes</td>\n",
       "      <td>https://www.bbcgoodfood.com/recipes/981634/chr...</td>\n",
       "      <td>Made these for the second time today, and I ha...</td>\n",
       "      <td>Barney Desmazery</td>\n",
       "      <td>[280g self-raising flour, 175g golden caster s...</td>\n",
       "      <td>[Heat oven to 190C/170 fan/gas 5 and line a 12...</td>\n",
       "    </tr>\n",
       "  </tbody>\n",
       "</table>\n",
       "</div>"
      ],
      "text/plain": [
       "                           Name   \n",
       "0                 Christmas pie  \\\n",
       "1  Simmer-&-stir Christmas cake   \n",
       "2            Christmas cupcakes   \n",
       "3                Christmas buns   \n",
       "4            Christmas cupcakes   \n",
       "\n",
       "                                                 url   \n",
       "0  https://www.bbcgoodfood.com/recipes/2793/chris...  \\\n",
       "1  https://www.bbcgoodfood.com/recipes/1160/simme...   \n",
       "2  https://www.bbcgoodfood.com/recipes/72622/chri...   \n",
       "3  https://www.bbcgoodfood.com/recipes/1803633/ch...   \n",
       "4  https://www.bbcgoodfood.com/recipes/981634/chr...   \n",
       "\n",
       "                                         Description            Author   \n",
       "0  Combine a few key Christmas flavours here to m...      Mary Cadogan  \\\n",
       "1  An easy-to-make alternative to traditional Chr...      Mary Cadogan   \n",
       "2  These beautiful and classy little cakes make l...     Sara Buenfeld   \n",
       "3  Paul Hollywood's fruit rolls can be made ahead...    Paul Hollywood   \n",
       "4  Made these for the second time today, and I ha...  Barney Desmazery   \n",
       "\n",
       "                                         Ingredients   \n",
       "0  [2 tbsp olive oil, knob butter, 1 onion, finel...  \\\n",
       "1  [175g butter, chopped, 200g dark muscovado sug...   \n",
       "2  [200g dark muscovado sugar, 175g butter, chopp...   \n",
       "3  [500g strong white flour, plus extra for dusti...   \n",
       "4  [280g self-raising flour, 175g golden caster s...   \n",
       "\n",
       "                                              Method  \n",
       "0  [Heat oven to 190C/fan 170C/gas 5. Heat 1 tbsp...  \n",
       "1  [Put the butter, sugar, fruit, zests, juice an...  \n",
       "2  [Tip the sugar, butter, dried fruit, whole che...  \n",
       "3  [Put the flour and 1 tsp salt into a large bow...  \n",
       "4  [Heat oven to 190C/170 fan/gas 5 and line a 12...  "
      ]
     },
     "execution_count": 10,
     "metadata": {},
     "output_type": "execute_result"
    }
   ],
   "source": [
    "data.head(5)"
   ]
  },
  {
   "cell_type": "code",
   "execution_count": 11,
   "metadata": {},
   "outputs": [
    {
     "name": "stdout",
     "output_type": "stream",
     "text": [
      "<class 'pandas.core.frame.DataFrame'>\n",
      "RangeIndex: 1617 entries, 0 to 1616\n",
      "Data columns (total 6 columns):\n",
      " #   Column       Non-Null Count  Dtype \n",
      "---  ------       --------------  ----- \n",
      " 0   Name         1617 non-null   object\n",
      " 1   url          1617 non-null   object\n",
      " 2   Description  1429 non-null   object\n",
      " 3   Author       1611 non-null   object\n",
      " 4   Ingredients  1617 non-null   object\n",
      " 5   Method       1617 non-null   object\n",
      "dtypes: object(6)\n",
      "memory usage: 75.9+ KB\n"
     ]
    }
   ],
   "source": [
    "data.info()"
   ]
  },
  {
   "cell_type": "code",
   "execution_count": 12,
   "metadata": {},
   "outputs": [
    {
     "data": {
      "text/plain": [
       "0    [2 tbsp olive oil, knob butter, 1 onion, finel...\n",
       "1    [175g butter, chopped, 200g dark muscovado sug...\n",
       "2    [200g dark muscovado sugar, 175g butter, chopp...\n",
       "3    [500g strong white flour, plus extra for dusti...\n",
       "4    [280g self-raising flour, 175g golden caster s...\n",
       "Name: Ingredients, dtype: object"
      ]
     },
     "execution_count": 12,
     "metadata": {},
     "output_type": "execute_result"
    }
   ],
   "source": [
    "data['Ingredients'].head(5)"
   ]
  },
  {
   "cell_type": "code",
   "execution_count": null,
   "metadata": {},
   "outputs": [],
   "source": [
    "# task 2 - cleaning\n"
   ]
  },
  {
   "cell_type": "code",
   "execution_count": null,
   "metadata": {},
   "outputs": [],
   "source": []
  },
  {
   "cell_type": "code",
   "execution_count": null,
   "metadata": {},
   "outputs": [],
   "source": []
  },
  {
   "cell_type": "code",
   "execution_count": null,
   "metadata": {},
   "outputs": [],
   "source": [
    "# task 3 - remove encoding\n"
   ]
  },
  {
   "cell_type": "code",
   "execution_count": null,
   "metadata": {},
   "outputs": [],
   "source": []
  },
  {
   "cell_type": "code",
   "execution_count": null,
   "metadata": {},
   "outputs": [],
   "source": [
    "# task 4 - define lemmatizing\n"
   ]
  },
  {
   "cell_type": "code",
   "execution_count": null,
   "metadata": {},
   "outputs": [],
   "source": []
  },
  {
   "cell_type": "code",
   "execution_count": null,
   "metadata": {},
   "outputs": [],
   "source": []
  },
  {
   "cell_type": "code",
   "execution_count": null,
   "metadata": {},
   "outputs": [],
   "source": []
  },
  {
   "cell_type": "code",
   "execution_count": null,
   "metadata": {},
   "outputs": [],
   "source": [
    "# task 5 - fit and transform text, with or without lemmatizing\n"
   ]
  },
  {
   "cell_type": "code",
   "execution_count": null,
   "metadata": {},
   "outputs": [],
   "source": []
  },
  {
   "cell_type": "code",
   "execution_count": null,
   "metadata": {},
   "outputs": [],
   "source": []
  },
  {
   "cell_type": "code",
   "execution_count": null,
   "metadata": {},
   "outputs": [],
   "source": [
    "# task 6 -  get word frequencies and create wordcloud\n"
   ]
  },
  {
   "cell_type": "code",
   "execution_count": null,
   "metadata": {},
   "outputs": [],
   "source": []
  },
  {
   "cell_type": "code",
   "execution_count": null,
   "metadata": {},
   "outputs": [],
   "source": []
  }
 ],
 "metadata": {
  "kernelspec": {
   "display_name": "Python 3",
   "language": "python",
   "name": "python3"
  },
  "language_info": {
   "codemirror_mode": {
    "name": "ipython",
    "version": 3
   },
   "file_extension": ".py",
   "mimetype": "text/x-python",
   "name": "python",
   "nbconvert_exporter": "python",
   "pygments_lexer": "ipython3",
   "version": "3.10.10"
  }
 },
 "nbformat": 4,
 "nbformat_minor": 4
}
